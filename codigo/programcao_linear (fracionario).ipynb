{
 "cells": [
  {
   "cell_type": "markdown",
   "id": "composite-reliance",
   "metadata": {},
   "source": [
    "# Trabalho Programação Linear "
   ]
  },
  {
   "cell_type": "markdown",
   "id": "unsigned-truth",
   "metadata": {},
   "source": [
    "## Leitura dos dados "
   ]
  },
  {
   "cell_type": "code",
   "execution_count": 1,
   "id": "three-municipality",
   "metadata": {},
   "outputs": [
    {
     "data": {
      "text/html": [
       "<div>\n",
       "<style scoped>\n",
       "    .dataframe tbody tr th:only-of-type {\n",
       "        vertical-align: middle;\n",
       "    }\n",
       "\n",
       "    .dataframe tbody tr th {\n",
       "        vertical-align: top;\n",
       "    }\n",
       "\n",
       "    .dataframe thead th {\n",
       "        text-align: right;\n",
       "    }\n",
       "</style>\n",
       "<table border=\"1\" class=\"dataframe\">\n",
       "  <thead>\n",
       "    <tr style=\"text-align: right;\">\n",
       "      <th></th>\n",
       "      <th>Item</th>\n",
       "      <th>Unidade</th>\n",
       "      <th>Local transporte</th>\n",
       "      <th>Variável de decisão</th>\n",
       "      <th>Volume [cm^3]</th>\n",
       "      <th>Venda (R$)</th>\n",
       "      <th>Compra</th>\n",
       "      <th>Lucro</th>\n",
       "      <th>Demanda</th>\n",
       "    </tr>\n",
       "  </thead>\n",
       "  <tbody>\n",
       "    <tr>\n",
       "      <th>0</th>\n",
       "      <td>Ovo de codorna</td>\n",
       "      <td>Dúzia</td>\n",
       "      <td>Kombi</td>\n",
       "      <td>x1</td>\n",
       "      <td>560.0</td>\n",
       "      <td>5.00</td>\n",
       "      <td>3.00</td>\n",
       "      <td>2.00</td>\n",
       "      <td>75.0</td>\n",
       "    </tr>\n",
       "    <tr>\n",
       "      <th>1</th>\n",
       "      <td>Ovo Branco</td>\n",
       "      <td>Dúzia</td>\n",
       "      <td>Kombi</td>\n",
       "      <td>x2</td>\n",
       "      <td>1458.0</td>\n",
       "      <td>5.00</td>\n",
       "      <td>3.50</td>\n",
       "      <td>1.50</td>\n",
       "      <td>100.0</td>\n",
       "    </tr>\n",
       "    <tr>\n",
       "      <th>2</th>\n",
       "      <td>Ovo Vermelho</td>\n",
       "      <td>Dúzia</td>\n",
       "      <td>Kombi</td>\n",
       "      <td>x3</td>\n",
       "      <td>1458.0</td>\n",
       "      <td>7.00</td>\n",
       "      <td>5.00</td>\n",
       "      <td>2.00</td>\n",
       "      <td>40.0</td>\n",
       "    </tr>\n",
       "    <tr>\n",
       "      <th>3</th>\n",
       "      <td>Coxa de Frango</td>\n",
       "      <td>Embalagem</td>\n",
       "      <td>Geladeira</td>\n",
       "      <td>x4</td>\n",
       "      <td>640.0</td>\n",
       "      <td>12.90</td>\n",
       "      <td>7.00</td>\n",
       "      <td>5.90</td>\n",
       "      <td>15.0</td>\n",
       "    </tr>\n",
       "    <tr>\n",
       "      <th>4</th>\n",
       "      <td>Picanha Suína</td>\n",
       "      <td>Embalagem</td>\n",
       "      <td>Geladeira</td>\n",
       "      <td>x5</td>\n",
       "      <td>630.0</td>\n",
       "      <td>26.90</td>\n",
       "      <td>18.80</td>\n",
       "      <td>8.10</td>\n",
       "      <td>4.0</td>\n",
       "    </tr>\n",
       "    <tr>\n",
       "      <th>5</th>\n",
       "      <td>Picanha Bovina</td>\n",
       "      <td>Embalagem</td>\n",
       "      <td>Geladeira</td>\n",
       "      <td>x6</td>\n",
       "      <td>1512.0</td>\n",
       "      <td>49.40</td>\n",
       "      <td>36.40</td>\n",
       "      <td>13.00</td>\n",
       "      <td>5.0</td>\n",
       "    </tr>\n",
       "    <tr>\n",
       "      <th>6</th>\n",
       "      <td>Miúdo de Porco</td>\n",
       "      <td>Embalagem</td>\n",
       "      <td>Geladeira</td>\n",
       "      <td>x7</td>\n",
       "      <td>13950.0</td>\n",
       "      <td>38.70</td>\n",
       "      <td>24.00</td>\n",
       "      <td>14.70</td>\n",
       "      <td>5.0</td>\n",
       "    </tr>\n",
       "    <tr>\n",
       "      <th>7</th>\n",
       "      <td>Pé de Frango</td>\n",
       "      <td>Caixa</td>\n",
       "      <td>Geladeira</td>\n",
       "      <td>x8</td>\n",
       "      <td>112404.0</td>\n",
       "      <td>85.00</td>\n",
       "      <td>34.00</td>\n",
       "      <td>51.00</td>\n",
       "      <td>0.0</td>\n",
       "    </tr>\n",
       "    <tr>\n",
       "      <th>8</th>\n",
       "      <td>Carré</td>\n",
       "      <td>Embalagem</td>\n",
       "      <td>Geladeira</td>\n",
       "      <td>x9</td>\n",
       "      <td>20160.0</td>\n",
       "      <td>81.12</td>\n",
       "      <td>48.00</td>\n",
       "      <td>33.12</td>\n",
       "      <td>8.0</td>\n",
       "    </tr>\n",
       "    <tr>\n",
       "      <th>9</th>\n",
       "      <td>Carne Moída</td>\n",
       "      <td>Embalagem</td>\n",
       "      <td>Geladeira</td>\n",
       "      <td>x10</td>\n",
       "      <td>15876.0</td>\n",
       "      <td>48.00</td>\n",
       "      <td>40.00</td>\n",
       "      <td>8.00</td>\n",
       "      <td>5.0</td>\n",
       "    </tr>\n",
       "    <tr>\n",
       "      <th>10</th>\n",
       "      <td>Costela de Porco</td>\n",
       "      <td>Embalagem</td>\n",
       "      <td>Geladeira</td>\n",
       "      <td>x11</td>\n",
       "      <td>30618.0</td>\n",
       "      <td>39.60</td>\n",
       "      <td>24.00</td>\n",
       "      <td>15.60</td>\n",
       "      <td>5.0</td>\n",
       "    </tr>\n",
       "    <tr>\n",
       "      <th>11</th>\n",
       "      <td>Carcaça de Frango</td>\n",
       "      <td>Embalagem</td>\n",
       "      <td>Geladeira</td>\n",
       "      <td>x12</td>\n",
       "      <td>5985.0</td>\n",
       "      <td>5.00</td>\n",
       "      <td>3.00</td>\n",
       "      <td>2.00</td>\n",
       "      <td>3.0</td>\n",
       "    </tr>\n",
       "    <tr>\n",
       "      <th>12</th>\n",
       "      <td>Coração de Frango</td>\n",
       "      <td>Embalagem</td>\n",
       "      <td>Geladeira</td>\n",
       "      <td>x13</td>\n",
       "      <td>560.0</td>\n",
       "      <td>19.00</td>\n",
       "      <td>16.00</td>\n",
       "      <td>3.00</td>\n",
       "      <td>4.0</td>\n",
       "    </tr>\n",
       "    <tr>\n",
       "      <th>13</th>\n",
       "      <td>Pescoço</td>\n",
       "      <td>Embalagem</td>\n",
       "      <td>Geladeira</td>\n",
       "      <td>x14</td>\n",
       "      <td>4851.0</td>\n",
       "      <td>5.00</td>\n",
       "      <td>2.00</td>\n",
       "      <td>3.00</td>\n",
       "      <td>0.0</td>\n",
       "    </tr>\n",
       "    <tr>\n",
       "      <th>14</th>\n",
       "      <td>Sobrecoxa</td>\n",
       "      <td>Embalagem</td>\n",
       "      <td>Geladeira</td>\n",
       "      <td>x15</td>\n",
       "      <td>7942.0</td>\n",
       "      <td>25.80</td>\n",
       "      <td>14.00</td>\n",
       "      <td>11.80</td>\n",
       "      <td>5.0</td>\n",
       "    </tr>\n",
       "    <tr>\n",
       "      <th>15</th>\n",
       "      <td>Alcatra</td>\n",
       "      <td>Embalagem</td>\n",
       "      <td>Geladeira</td>\n",
       "      <td>x16</td>\n",
       "      <td>12064.0</td>\n",
       "      <td>156.87</td>\n",
       "      <td>113.40</td>\n",
       "      <td>43.47</td>\n",
       "      <td>5.0</td>\n",
       "    </tr>\n",
       "    <tr>\n",
       "      <th>16</th>\n",
       "      <td>Filé</td>\n",
       "      <td>Embalagem</td>\n",
       "      <td>Geladeira</td>\n",
       "      <td>x17</td>\n",
       "      <td>33840.0</td>\n",
       "      <td>90.00</td>\n",
       "      <td>70.00</td>\n",
       "      <td>20.00</td>\n",
       "      <td>5.0</td>\n",
       "    </tr>\n",
       "    <tr>\n",
       "      <th>17</th>\n",
       "      <td>Peito de Frango</td>\n",
       "      <td>Embalagem</td>\n",
       "      <td>Geladeira</td>\n",
       "      <td>x18</td>\n",
       "      <td>11232.0</td>\n",
       "      <td>12.90</td>\n",
       "      <td>8.00</td>\n",
       "      <td>4.90</td>\n",
       "      <td>10.0</td>\n",
       "    </tr>\n",
       "    <tr>\n",
       "      <th>18</th>\n",
       "      <td>Linguiça de Frango</td>\n",
       "      <td>Embalagem</td>\n",
       "      <td>Geladeira</td>\n",
       "      <td>x19</td>\n",
       "      <td>10800.0</td>\n",
       "      <td>7.92</td>\n",
       "      <td>5.56</td>\n",
       "      <td>2.36</td>\n",
       "      <td>3.0</td>\n",
       "    </tr>\n",
       "    <tr>\n",
       "      <th>19</th>\n",
       "      <td>Carne Seca</td>\n",
       "      <td>Embalagem</td>\n",
       "      <td>Kombi</td>\n",
       "      <td>x20</td>\n",
       "      <td>40824.0</td>\n",
       "      <td>289.00</td>\n",
       "      <td>200.00</td>\n",
       "      <td>89.00</td>\n",
       "      <td>4.0</td>\n",
       "    </tr>\n",
       "    <tr>\n",
       "      <th>20</th>\n",
       "      <td>Carne de Sol</td>\n",
       "      <td>Embalagem</td>\n",
       "      <td>Kombi</td>\n",
       "      <td>x21</td>\n",
       "      <td>40824.0</td>\n",
       "      <td>289.00</td>\n",
       "      <td>200.00</td>\n",
       "      <td>89.00</td>\n",
       "      <td>4.0</td>\n",
       "    </tr>\n",
       "    <tr>\n",
       "      <th>21</th>\n",
       "      <td>Toucinho</td>\n",
       "      <td>Embalagem</td>\n",
       "      <td>Kombi</td>\n",
       "      <td>x22</td>\n",
       "      <td>7830.0</td>\n",
       "      <td>13.90</td>\n",
       "      <td>10.00</td>\n",
       "      <td>3.90</td>\n",
       "      <td>4.0</td>\n",
       "    </tr>\n",
       "  </tbody>\n",
       "</table>\n",
       "</div>"
      ],
      "text/plain": [
       "                 Item    Unidade  Local transporte Variável de decisão   \\\n",
       "0       Ovo de codorna      Dúzia            Kombi                   x1   \n",
       "1           Ovo Branco      Dúzia            Kombi                   x2   \n",
       "2         Ovo Vermelho      Dúzia            Kombi                   x3   \n",
       "3       Coxa de Frango  Embalagem        Geladeira                   x4   \n",
       "4        Picanha Suína  Embalagem        Geladeira                   x5   \n",
       "5       Picanha Bovina  Embalagem        Geladeira                   x6   \n",
       "6       Miúdo de Porco  Embalagem        Geladeira                   x7   \n",
       "7         Pé de Frango      Caixa        Geladeira                   x8   \n",
       "8                Carré  Embalagem        Geladeira                   x9   \n",
       "9          Carne Moída  Embalagem        Geladeira                  x10   \n",
       "10    Costela de Porco  Embalagem        Geladeira                  x11   \n",
       "11   Carcaça de Frango  Embalagem        Geladeira                  x12   \n",
       "12   Coração de Frango  Embalagem        Geladeira                  x13   \n",
       "13             Pescoço  Embalagem        Geladeira                  x14   \n",
       "14           Sobrecoxa  Embalagem        Geladeira                  x15   \n",
       "15             Alcatra  Embalagem        Geladeira                  x16   \n",
       "16                Filé  Embalagem        Geladeira                  x17   \n",
       "17     Peito de Frango  Embalagem        Geladeira                  x18   \n",
       "18  Linguiça de Frango  Embalagem        Geladeira                  x19   \n",
       "19          Carne Seca  Embalagem            Kombi                  x20   \n",
       "20        Carne de Sol  Embalagem            Kombi                  x21   \n",
       "21            Toucinho  Embalagem            Kombi                  x22   \n",
       "\n",
       "    Volume [cm^3]  Venda (R$)  Compra  Lucro  Demanda  \n",
       "0           560.0        5.00    3.00   2.00     75.0  \n",
       "1          1458.0        5.00    3.50   1.50    100.0  \n",
       "2          1458.0        7.00    5.00   2.00     40.0  \n",
       "3           640.0       12.90    7.00   5.90     15.0  \n",
       "4           630.0       26.90   18.80   8.10      4.0  \n",
       "5          1512.0       49.40   36.40  13.00      5.0  \n",
       "6         13950.0       38.70   24.00  14.70      5.0  \n",
       "7        112404.0       85.00   34.00  51.00      0.0  \n",
       "8         20160.0       81.12   48.00  33.12      8.0  \n",
       "9         15876.0       48.00   40.00   8.00      5.0  \n",
       "10        30618.0       39.60   24.00  15.60      5.0  \n",
       "11         5985.0        5.00    3.00   2.00      3.0  \n",
       "12          560.0       19.00   16.00   3.00      4.0  \n",
       "13         4851.0        5.00    2.00   3.00      0.0  \n",
       "14         7942.0       25.80   14.00  11.80      5.0  \n",
       "15        12064.0      156.87  113.40  43.47      5.0  \n",
       "16        33840.0       90.00   70.00  20.00      5.0  \n",
       "17        11232.0       12.90    8.00   4.90     10.0  \n",
       "18        10800.0        7.92    5.56   2.36      3.0  \n",
       "19        40824.0      289.00  200.00  89.00      4.0  \n",
       "20        40824.0      289.00  200.00  89.00      4.0  \n",
       "21         7830.0       13.90   10.00   3.90      4.0  "
      ]
     },
     "execution_count": 1,
     "metadata": {},
     "output_type": "execute_result"
    }
   ],
   "source": [
    "from pandas_ods_reader import read_ods\n",
    "\n",
    "df = read_ods(\"variaveis_decisao.ods\", 1)\n",
    "df"
   ]
  },
  {
   "cell_type": "markdown",
   "id": "intermediate-david",
   "metadata": {},
   "source": [
    "## Definição das variáveis "
   ]
  },
  {
   "cell_type": "code",
   "execution_count": 2,
   "id": "streaming-processing",
   "metadata": {},
   "outputs": [],
   "source": [
    "volume = list(df['Volume [cm^3]'])\n",
    "preco_venda = list(df['Venda (R$)'])\n",
    "preco_compra = list(df['Compra'])\n",
    "lucro = list(df['Lucro'])\n",
    "demanda = list(df[\"Demanda\"])"
   ]
  },
  {
   "cell_type": "markdown",
   "id": "standard-shepherd",
   "metadata": {},
   "source": [
    "## Definição das matrizes de Entrada "
   ]
  },
  {
   "cell_type": "markdown",
   "id": "strategic-implement",
   "metadata": {},
   "source": [
    "### Função Objetiva"
   ]
  },
  {
   "cell_type": "markdown",
   "id": "broadband-crystal",
   "metadata": {},
   "source": [
    "Iremos minimizar a -f(x1, ... , x22), onde f(x1, ... , x22) é a função que representa o valor total da venda."
   ]
  },
  {
   "cell_type": "code",
   "execution_count": 3,
   "id": "exposed-discipline",
   "metadata": {},
   "outputs": [],
   "source": [
    "Z = [x * -1 for x in preco_venda]"
   ]
  },
  {
   "cell_type": "markdown",
   "id": "polish-ebony",
   "metadata": {},
   "source": [
    "### Restrições"
   ]
  },
  {
   "cell_type": "markdown",
   "id": "cardiac-pledge",
   "metadata": {},
   "source": [
    "Nesta etapa iremos impor as restrições das variáves."
   ]
  },
  {
   "cell_type": "markdown",
   "id": "unlikely-masters",
   "metadata": {},
   "source": [
    "#### Restrição Geladeira"
   ]
  },
  {
   "cell_type": "markdown",
   "id": "welcome-detroit",
   "metadata": {},
   "source": [
    "Nesta etapa selecionaremos os itens que irão dentro da geladeira, ou seja, de x4 a x22."
   ]
  },
  {
   "cell_type": "code",
   "execution_count": 4,
   "id": "incoming-bubble",
   "metadata": {},
   "outputs": [],
   "source": [
    "aux = df.copy()\n",
    "i = 0\n",
    "for item in aux['Local transporte']:\n",
    "    if item != 'Geladeira':\n",
    "        aux.loc[i, 'Volume [cm^3]'] = 0\n",
    "    i += 1\n",
    "G = list(aux['Volume [cm^3]'])\n",
    "max_G = 1369900"
   ]
  },
  {
   "cell_type": "markdown",
   "id": "timely-planet",
   "metadata": {},
   "source": [
    "#### Restrição Kombi"
   ]
  },
  {
   "cell_type": "markdown",
   "id": "worldwide-tonight",
   "metadata": {},
   "source": [
    "Agora iremos impor as restrições para os itens que irão fora da geladeira. "
   ]
  },
  {
   "cell_type": "code",
   "execution_count": 5,
   "id": "hourly-seventh",
   "metadata": {},
   "outputs": [],
   "source": [
    "aux = df.copy()\n",
    "i = 0\n",
    "for item in aux['Local transporte']:\n",
    "    if item == 'Geladeira':\n",
    "        aux.loc[i, 'Volume [cm^3]'] = 0\n",
    "    i += 1\n",
    "K = list(aux['Volume [cm^3]'])\n",
    "max_K = 1984000"
   ]
  },
  {
   "cell_type": "markdown",
   "id": "systematic-sentence",
   "metadata": {},
   "source": [
    "#### Fluxo de caixa"
   ]
  },
  {
   "cell_type": "markdown",
   "id": "present-privilege",
   "metadata": {},
   "source": [
    "Existe um limite diário de mercadória de R$ 6000,00."
   ]
  },
  {
   "cell_type": "code",
   "execution_count": 6,
   "id": "certified-handy",
   "metadata": {},
   "outputs": [],
   "source": [
    "F = [x for x in preco_compra]\n",
    "max_F = 6000"
   ]
  },
  {
   "cell_type": "markdown",
   "id": "floppy-amazon",
   "metadata": {},
   "source": [
    "# Aplicando o Simplex "
   ]
  },
  {
   "cell_type": "code",
   "execution_count": 7,
   "id": "generous-teacher",
   "metadata": {},
   "outputs": [],
   "source": [
    "import scipy\n",
    "from scipy.optimize import linprog"
   ]
  },
  {
   "cell_type": "code",
   "execution_count": 8,
   "id": "alpha-shelter",
   "metadata": {},
   "outputs": [],
   "source": [
    "c = Z\n",
    "A = [G, K, F]\n",
    "B = [max_G, max_K, max_F]\n",
    "x1_bd = (0, None)\n",
    "x_bounds = (x1_bd,)*len(c)"
   ]
  },
  {
   "cell_type": "code",
   "execution_count": 9,
   "id": "welcome-delight",
   "metadata": {},
   "outputs": [
    {
     "name": "stdout",
     "output_type": "stream",
     "text": [
      "Optimization terminated successfully.\n",
      "         Current function value: -11288.382654\n",
      "         Iterations: 8\n"
     ]
    }
   ],
   "source": [
    "modelo_simplex = linprog(c, A_ub=A, b_ub=B, bounds=x_bounds, method='Simplex', options={\"disp\":True})"
   ]
  },
  {
   "cell_type": "code",
   "execution_count": 13,
   "id": "cooperative-headline",
   "metadata": {},
   "outputs": [
    {
     "data": {
      "text/plain": [
       "     con: array([], dtype=float64)\n",
       "     fun: -11288.382654466443\n",
       " message: 'Optimization terminated successfully.'\n",
       "     nit: 8\n",
       "   slack: array([2.32830644e-10, 1.98400000e+06, 9.09494702e-13])\n",
       "  status: 0\n",
       " success: True\n",
       "       x: array([  0.        ,   0.        ,   0.        , 806.87333599,\n",
       "         0.        ,   0.        ,   0.        ,   0.        ,\n",
       "         0.        ,   0.        ,   0.        ,   0.        ,\n",
       "         0.        , 175.94332405,   0.        ,   0.        ,\n",
       "         0.        ,   0.        ,   0.        ,   0.        ,\n",
       "         0.        ,   0.        ])"
      ]
     },
     "execution_count": 13,
     "metadata": {},
     "output_type": "execute_result"
    }
   ],
   "source": [
    "modelo_simplex"
   ]
  },
  {
   "cell_type": "code",
   "execution_count": 11,
   "id": "solar-grant",
   "metadata": {},
   "outputs": [
    {
     "data": {
      "text/plain": [
       "((75.0, None),\n",
       " (100.0, None),\n",
       " (40.0, None),\n",
       " (15.0, None),\n",
       " (4.0, None),\n",
       " (5.0, None),\n",
       " (5.0, None),\n",
       " (0.0, None),\n",
       " (8.0, None),\n",
       " (5.0, None),\n",
       " (5.0, None),\n",
       " (3.0, None),\n",
       " (4.0, None),\n",
       " (0.0, None),\n",
       " (5.0, None),\n",
       " (5.0, None),\n",
       " (5.0, None),\n",
       " (10.0, None),\n",
       " (3.0, None),\n",
       " (4.0, None),\n",
       " (4.0, None),\n",
       " (4.0, None))"
      ]
     },
     "execution_count": 11,
     "metadata": {},
     "output_type": "execute_result"
    }
   ],
   "source": [
    "c = Z\n",
    "A = [G, K, F]\n",
    "B = [max_G, max_K, max_F]\n",
    "x_bounds = []\n",
    "for item in demanda:\n",
    "    x_bounds.append((round(item,0),None))\n",
    "\n",
    "x_bounds = tuple(x_bounds)\n",
    "x_bounds"
   ]
  },
  {
   "cell_type": "code",
   "execution_count": 12,
   "id": "editorial-party",
   "metadata": {},
   "outputs": [
    {
     "name": "stdout",
     "output_type": "stream",
     "text": [
      "Optimization terminated successfully.\n",
      "         Current function value: -9342.765735\n",
      "         Iterations: 9\n"
     ]
    },
    {
     "data": {
      "text/plain": [
       "     con: array([], dtype=float64)\n",
       "     fun: -9342.765735471434\n",
       " message: 'Optimization terminated successfully.'\n",
       "     nit: 9\n",
       "   slack: array([ 0.00000000e+00,  1.37996800e+06, -9.09494702e-13])\n",
       "  status: 0\n",
       " success: True\n",
       "       x: array([ 75.        , 100.        ,  40.        , 171.69657925,\n",
       "         4.        ,   5.        ,   5.        ,   0.        ,\n",
       "         8.        ,   5.        ,   5.        ,   3.        ,\n",
       "         4.        ,  72.62197264,   5.        ,   5.        ,\n",
       "         5.        ,  10.        ,   3.        ,   4.        ,\n",
       "         4.        ,   4.        ])"
      ]
     },
     "execution_count": 12,
     "metadata": {},
     "output_type": "execute_result"
    }
   ],
   "source": [
    "model_simplex = linprog(c, A_ub=A, b_ub=B, bounds=x_bounds, method='simplex', options={ 'disp': True})\n",
    "model_simplex"
   ]
  }
 ],
 "metadata": {
  "kernelspec": {
   "display_name": "Python 3",
   "language": "python",
   "name": "python3"
  },
  "language_info": {
   "codemirror_mode": {
    "name": "ipython",
    "version": 3
   },
   "file_extension": ".py",
   "mimetype": "text/x-python",
   "name": "python",
   "nbconvert_exporter": "python",
   "pygments_lexer": "ipython3",
   "version": "3.8.5"
  }
 },
 "nbformat": 4,
 "nbformat_minor": 5
}
