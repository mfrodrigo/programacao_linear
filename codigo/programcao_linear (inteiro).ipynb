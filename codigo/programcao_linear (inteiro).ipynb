{
 "cells": [
  {
   "cell_type": "markdown",
   "id": "composite-reliance",
   "metadata": {},
   "source": [
    "# Trabalho Programação Linear "
   ]
  },
  {
   "cell_type": "markdown",
   "id": "explicit-corps",
   "metadata": {},
   "source": [
    "# Considerando Inteiro"
   ]
  },
  {
   "cell_type": "code",
   "execution_count": 1,
   "id": "hawaiian-dutch",
   "metadata": {},
   "outputs": [],
   "source": [
    "from pulp import LpMaximize, LpProblem, LpStatus, lpSum, LpVariable,pulpTestAll, GLPK"
   ]
  },
  {
   "cell_type": "code",
   "execution_count": 2,
   "id": "applied-attempt",
   "metadata": {},
   "outputs": [
    {
     "name": "stdout",
     "output_type": "stream",
     "text": [
      "status: 1, Optimal\n",
      "objective: 11287.4\n",
      "x1: 2.0\n",
      "x10: 0.0\n",
      "x11: 0.0\n",
      "x12: 0.0\n",
      "x13: 0.0\n",
      "x14: 176.0\n",
      "x15: 0.0\n",
      "x16: 0.0\n",
      "x17: 0.0\n",
      "x18: 0.0\n",
      "x19: 0.0\n",
      "x2: 0.0\n",
      "x20: 0.0\n",
      "x21: 0.0\n",
      "x22: 0.0\n",
      "x3: 0.0\n",
      "x4: 806.0\n",
      "x5: 0.0\n",
      "x6: 0.0\n",
      "x7: 0.0\n",
      "x8: 0.0\n",
      "x9: 0.0\n"
     ]
    }
   ],
   "source": [
    "x1 = LpVariable(name=\"x1\", lowBound=0, cat=\"Integer\")\n",
    "x2 = LpVariable(name=\"x2\", lowBound=0, cat=\"Integer\")\n",
    "x3 = LpVariable(name=\"x3\", lowBound=0, cat=\"Integer\")\n",
    "x4 = LpVariable(name=\"x4\", lowBound=0, cat=\"Integer\")\n",
    "x5 = LpVariable(name=\"x5\", lowBound=0, cat=\"Integer\")\n",
    "x6 = LpVariable(name=\"x6\", lowBound=0, cat=\"Integer\")\n",
    "x7 = LpVariable(name=\"x7\", lowBound=0, cat=\"Integer\")\n",
    "x8 = LpVariable(name=\"x8\",  lowBound=0, cat=\"Integer\")\n",
    "x9 = LpVariable(name=\"x9\",  lowBound=0, cat=\"Integer\")\n",
    "x10 = LpVariable(name=\"x10\", lowBound=0, cat=\"Integer\")\n",
    "x11 = LpVariable(name=\"x11\",  lowBound=0,cat=\"Integer\")\n",
    "x12 = LpVariable(name=\"x12\",  lowBound=0, cat=\"Integer\")\n",
    "x13 = LpVariable(name=\"x13\", lowBound=0, cat=\"Integer\")\n",
    "x14 = LpVariable(name=\"x14\",   lowBound=0, cat=\"Integer\")\n",
    "x15 = LpVariable(name=\"x15\", lowBound=0, cat=\"Integer\")\n",
    "x16 = LpVariable(name=\"x16\",  lowBound=0, cat=\"Integer\")\n",
    "x17 = LpVariable(name=\"x17\",  lowBound=0, cat=\"Integer\")\n",
    "x18 = LpVariable(name=\"x18\",  lowBound=0, cat=\"Integer\")\n",
    "x19 = LpVariable(name=\"x19\",  lowBound=0, cat=\"Integer\")\n",
    "x20 = LpVariable(name=\"x20\", lowBound=0, cat=\"Integer\")\n",
    "x21 = LpVariable(name=\"x21\",  lowBound=0, cat=\"Integer\")\n",
    "x22 = LpVariable(name=\"x22\",  lowBound=0, cat=\"Integer\")\n",
    "\n",
    "# Add the constraints to the model\n",
    "# Create the model\n",
    "model = LpProblem(name=\"small-problem\", sense=LpMaximize)\n",
    "\n",
    "model += (0*x1+0*x2+0*x3+640*x4+630*x5+1512*x6+13950*x7+112404*x8+20160*x9+\n",
    "          15876*x10+30618*x11+5985*x12+560*x13+4851*x14+7942*x15+1206*x16+33840*x17+11232*x18\n",
    "          + 10800*x19+ 0*x20 + 0*x21+ 0*x22 <= 1369900)\n",
    "\n",
    "model += (560*x1+1458*x2+1458*x3+0*x4+0*x5+0*x6+0*x7+0*x8+0*x9+\n",
    "          0*x10+0*x11+0*x12+0*x13+0*x14+0*x15+0*x16+0*x17+0*x18\n",
    "          +0*x19+ 40824*x20 + 40824*x21 +7830*x22<= 1984000)\n",
    "\n",
    "model += (3*x1+3.5*x2+5*x3+7*x4+18.8*x5+\n",
    "          36.4*x6+24*x7+34*x8+48*x9+40*x10+\n",
    "          24*x11+3*x12+16*x13+2*x14+14*x15+\n",
    "          113.4*x16+\n",
    "          70*x17+8*x18+5.56*x19+ 200*x20 + \n",
    "          200*x21 +10*x22<= 6000)\n",
    "\n",
    "model += lpSum([5*x1,5*x2,7*x3,12.9*x4,26.9*x5,\n",
    "            49.4*x6,38.7*x7,85*x8,81.12*x9,\n",
    "          48*x10,39.6*x11,5*x12,19*x13,5*x14,25.8*x15,\n",
    "            156.87*x16,90*x17,12.9*x18\n",
    "          , 7.92*x19, 289*x20 , 289*x21, 13.9*x22])\n",
    "\n",
    "\n",
    "status = model.solve()\n",
    "\n",
    "print(f\"status: {model.status}, {LpStatus[model.status]}\")\n",
    "\n",
    "print(f\"objective: {model.objective.value()}\")\n",
    "\n",
    "for var in model.variables():\n",
    "    print(f\"{var.name}: {var.value()}\")"
   ]
  },
  {
   "cell_type": "code",
   "execution_count": 3,
   "id": "neutral-lincoln",
   "metadata": {},
   "outputs": [
    {
     "name": "stdout",
     "output_type": "stream",
     "text": [
      "status: 1, Optimal\n",
      "objective: 9356.970000000001\n",
      "x1: 76.0\n",
      "x10: 5.0\n",
      "x11: 5.0\n",
      "x12: 3.0\n",
      "x13: 4.0\n",
      "x14: 84.0\n",
      "x15: 5.0\n",
      "x16: 5.0\n",
      "x17: 5.0\n",
      "x18: 10.0\n",
      "x19: 3.0\n",
      "x2: 100.0\n",
      "x20: 4.0\n",
      "x21: 4.0\n",
      "x22: 4.0\n",
      "x3: 40.0\n",
      "x4: 168.0\n",
      "x5: 4.0\n",
      "x6: 5.0\n",
      "x7: 5.0\n",
      "x8: 0.0\n",
      "x9: 8.0\n"
     ]
    }
   ],
   "source": [
    "x1 = LpVariable(name=\"x1\", lowBound=75, cat=\"Integer\")\n",
    "x2 = LpVariable(name=\"x2\", lowBound=100, cat=\"Integer\")\n",
    "x3 = LpVariable(name=\"x3\", lowBound=40, cat=\"Integer\")\n",
    "x4 = LpVariable(name=\"x4\", lowBound=15, cat=\"Integer\")\n",
    "x5 = LpVariable(name=\"x5\", lowBound=4, cat=\"Integer\")\n",
    "x6 = LpVariable(name=\"x6\", lowBound=5, cat=\"Integer\")\n",
    "x7 = LpVariable(name=\"x7\", lowBound=5, cat=\"Integer\")\n",
    "x8 = LpVariable(name=\"x8\",  lowBound=0, cat=\"Integer\")\n",
    "x9 = LpVariable(name=\"x9\",  lowBound=8, cat=\"Integer\")\n",
    "x10 = LpVariable(name=\"x10\", lowBound=5, cat=\"Integer\")\n",
    "x11 = LpVariable(name=\"x11\",  lowBound=5,cat=\"Integer\")\n",
    "x12 = LpVariable(name=\"x12\",  lowBound=3, cat=\"Integer\")\n",
    "x13 = LpVariable(name=\"x13\", lowBound=4, cat=\"Integer\")\n",
    "x14 = LpVariable(name=\"x14\",   lowBound=0, cat=\"Integer\")\n",
    "x15 = LpVariable(name=\"x15\", lowBound=5, cat=\"Integer\")\n",
    "x16 = LpVariable(name=\"x16\",  lowBound=5, cat=\"Integer\")\n",
    "x17 = LpVariable(name=\"x17\",  lowBound=5, cat=\"Integer\")\n",
    "x18 = LpVariable(name=\"x18\",  lowBound=10, cat=\"Integer\")\n",
    "x19 = LpVariable(name=\"x19\",  lowBound=3, cat=\"Integer\")\n",
    "x20 = LpVariable(name=\"x20\", lowBound=4, cat=\"Integer\")\n",
    "x21 = LpVariable(name=\"x21\",  lowBound=4, cat=\"Integer\")\n",
    "x22 = LpVariable(name=\"x22\",  lowBound=4, cat=\"Integer\")\n",
    "\n",
    "# Add the constraints to the model\n",
    "# Create the model\n",
    "model = LpProblem(name=\"small-problem\", sense=LpMaximize)\n",
    "\n",
    "model += (0*x1+0*x2+0*x3+640*x4+630*x5+1512*x6+13950*x7+112404*x8+20160*x9+\n",
    "          15876*x10+30618*x11+5985*x12+560*x13+4851*x14+7942*x15+1206*x16+33840*x17+11232*x18\n",
    "          + 10800*x19+ 0*x20 + 0*x21+ 0*x22 <= 1369900)\n",
    "\n",
    "model += (560*x1+1458*x2+1458*x3+0*x4+0*x5+0*x6+0*x7+0*x8+0*x9+\n",
    "          0*x10+0*x11+0*x12+0*x13+0*x14+0*x15+0*x16+0*x17+0*x18\n",
    "          +0*x19+ 40824*x20 + 40824*x21 +7830*x22<= 1984000)\n",
    "\n",
    "model += (3*x1+3.5*x2+5*x3+7*x4+18.8*x5+\n",
    "          36.4*x6+24*x7+34*x8+48*x9+40*x10+\n",
    "          24*x11+3*x12+16*x13+2*x14+14*x15+\n",
    "          113.4*x16+\n",
    "          70*x17+8*x18+5.56*x19+ 200*x20 + \n",
    "          200*x21 +10*x22<= 6000)\n",
    "\n",
    "model += lpSum([5*x1,5*x2,7*x3,12.9*x4,26.9*x5,\n",
    "            49.4*x6,38.7*x7,85*x8,81.12*x9,\n",
    "          48*x10,39.6*x11,5*x12,19*x13,5*x14,25.8*x15,\n",
    "            156.87*x16,90*x17,12.9*x18\n",
    "          , 7.92*x19, 289*x20 , 289*x21, 13.9*x22])\n",
    "\n",
    "\n",
    "status = model.solve()\n",
    "\n",
    "print(f\"status: {model.status}, {LpStatus[model.status]}\")\n",
    "\n",
    "print(f\"objective: {model.objective.value()}\")\n",
    "\n",
    "for var in model.variables():\n",
    "    print(f\"{var.name}: {var.value()}\")"
   ]
  },
  {
   "cell_type": "code",
   "execution_count": 4,
   "id": "handmade-religion",
   "metadata": {},
   "outputs": [
    {
     "name": "stdout",
     "output_type": "stream",
     "text": [
      "_C1: -1461.0\n",
      "_C2: -1379408.0\n",
      "_C3: -0.12000000000011823\n"
     ]
    }
   ],
   "source": [
    "for name, constraint in model.constraints.items():\n",
    "    print(f\"{name}: {constraint.value()}\")"
   ]
  }
 ],
 "metadata": {
  "kernelspec": {
   "display_name": "Python 3",
   "language": "python",
   "name": "python3"
  },
  "language_info": {
   "codemirror_mode": {
    "name": "ipython",
    "version": 3
   },
   "file_extension": ".py",
   "mimetype": "text/x-python",
   "name": "python",
   "nbconvert_exporter": "python",
   "pygments_lexer": "ipython3",
   "version": "3.8.5"
  }
 },
 "nbformat": 4,
 "nbformat_minor": 5
}
