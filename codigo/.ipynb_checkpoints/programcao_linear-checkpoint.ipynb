{
 "cells": [
  {
   "cell_type": "markdown",
   "id": "composite-reliance",
   "metadata": {},
   "source": [
    "# Trabalho Programação Linear "
   ]
  },
  {
   "cell_type": "markdown",
   "id": "unsigned-truth",
   "metadata": {},
   "source": [
    "## Leitura dos dados "
   ]
  },
  {
   "cell_type": "code",
   "execution_count": 2,
   "id": "three-municipality",
   "metadata": {},
   "outputs": [
    {
     "data": {
      "text/html": [
       "<div>\n",
       "<style scoped>\n",
       "    .dataframe tbody tr th:only-of-type {\n",
       "        vertical-align: middle;\n",
       "    }\n",
       "\n",
       "    .dataframe tbody tr th {\n",
       "        vertical-align: top;\n",
       "    }\n",
       "\n",
       "    .dataframe thead th {\n",
       "        text-align: right;\n",
       "    }\n",
       "</style>\n",
       "<table border=\"1\" class=\"dataframe\">\n",
       "  <thead>\n",
       "    <tr style=\"text-align: right;\">\n",
       "      <th></th>\n",
       "      <th>Item</th>\n",
       "      <th>Unidade</th>\n",
       "      <th>Local transporte</th>\n",
       "      <th>Variável de decisão</th>\n",
       "      <th>Volume [cm^3]</th>\n",
       "      <th>Venda (R$)</th>\n",
       "      <th>Compra</th>\n",
       "      <th>Lucro</th>\n",
       "      <th>Demanda</th>\n",
       "    </tr>\n",
       "  </thead>\n",
       "  <tbody>\n",
       "    <tr>\n",
       "      <th>0</th>\n",
       "      <td>Ovo de codorna</td>\n",
       "      <td>Dúzia</td>\n",
       "      <td>Kombi</td>\n",
       "      <td>x1</td>\n",
       "      <td>560.0</td>\n",
       "      <td>5.00</td>\n",
       "      <td>3.00</td>\n",
       "      <td>2.00</td>\n",
       "      <td>180.0</td>\n",
       "    </tr>\n",
       "    <tr>\n",
       "      <th>1</th>\n",
       "      <td>Ovo Branco</td>\n",
       "      <td>Dúzia</td>\n",
       "      <td>Kombi</td>\n",
       "      <td>x2</td>\n",
       "      <td>1458.0</td>\n",
       "      <td>5.00</td>\n",
       "      <td>3.50</td>\n",
       "      <td>1.50</td>\n",
       "      <td>90.0</td>\n",
       "    </tr>\n",
       "    <tr>\n",
       "      <th>2</th>\n",
       "      <td>Ovo Vermelho</td>\n",
       "      <td>Dúzia</td>\n",
       "      <td>Kombi</td>\n",
       "      <td>x3</td>\n",
       "      <td>1458.0</td>\n",
       "      <td>7.00</td>\n",
       "      <td>5.00</td>\n",
       "      <td>2.00</td>\n",
       "      <td>60.0</td>\n",
       "    </tr>\n",
       "    <tr>\n",
       "      <th>3</th>\n",
       "      <td>Coxa de Frango</td>\n",
       "      <td>Embalagem</td>\n",
       "      <td>Geladeira</td>\n",
       "      <td>x4</td>\n",
       "      <td>640.0</td>\n",
       "      <td>12.90</td>\n",
       "      <td>7.00</td>\n",
       "      <td>5.90</td>\n",
       "      <td>24.0</td>\n",
       "    </tr>\n",
       "    <tr>\n",
       "      <th>4</th>\n",
       "      <td>Picanha Suína</td>\n",
       "      <td>Embalagem</td>\n",
       "      <td>Geladeira</td>\n",
       "      <td>x5</td>\n",
       "      <td>630.0</td>\n",
       "      <td>26.90</td>\n",
       "      <td>18.80</td>\n",
       "      <td>8.10</td>\n",
       "      <td>6.0</td>\n",
       "    </tr>\n",
       "    <tr>\n",
       "      <th>5</th>\n",
       "      <td>Picanha Bovina</td>\n",
       "      <td>Embalagem</td>\n",
       "      <td>Geladeira</td>\n",
       "      <td>x6</td>\n",
       "      <td>1512.0</td>\n",
       "      <td>49.40</td>\n",
       "      <td>36.40</td>\n",
       "      <td>13.00</td>\n",
       "      <td>7.0</td>\n",
       "    </tr>\n",
       "    <tr>\n",
       "      <th>6</th>\n",
       "      <td>Miúdo de Porco</td>\n",
       "      <td>Embalagem</td>\n",
       "      <td>Geladeira</td>\n",
       "      <td>x7</td>\n",
       "      <td>13950.0</td>\n",
       "      <td>38.70</td>\n",
       "      <td>24.00</td>\n",
       "      <td>14.70</td>\n",
       "      <td>7.0</td>\n",
       "    </tr>\n",
       "    <tr>\n",
       "      <th>7</th>\n",
       "      <td>Pé de Frango</td>\n",
       "      <td>Caixa</td>\n",
       "      <td>Geladeira</td>\n",
       "      <td>x8</td>\n",
       "      <td>112404.0</td>\n",
       "      <td>85.00</td>\n",
       "      <td>34.00</td>\n",
       "      <td>51.00</td>\n",
       "      <td>36.0</td>\n",
       "    </tr>\n",
       "    <tr>\n",
       "      <th>8</th>\n",
       "      <td>Carré</td>\n",
       "      <td>Embalagem</td>\n",
       "      <td>Geladeira</td>\n",
       "      <td>x9</td>\n",
       "      <td>20160.0</td>\n",
       "      <td>81.12</td>\n",
       "      <td>48.00</td>\n",
       "      <td>33.12</td>\n",
       "      <td>10.0</td>\n",
       "    </tr>\n",
       "    <tr>\n",
       "      <th>9</th>\n",
       "      <td>Carne Moída</td>\n",
       "      <td>Embalagem</td>\n",
       "      <td>Geladeira</td>\n",
       "      <td>x10</td>\n",
       "      <td>15876.0</td>\n",
       "      <td>48.00</td>\n",
       "      <td>40.00</td>\n",
       "      <td>8.00</td>\n",
       "      <td>6.0</td>\n",
       "    </tr>\n",
       "    <tr>\n",
       "      <th>10</th>\n",
       "      <td>Costela de Porco</td>\n",
       "      <td>Embalagem</td>\n",
       "      <td>Geladeira</td>\n",
       "      <td>x11</td>\n",
       "      <td>30618.0</td>\n",
       "      <td>39.60</td>\n",
       "      <td>24.00</td>\n",
       "      <td>15.60</td>\n",
       "      <td>12.0</td>\n",
       "    </tr>\n",
       "    <tr>\n",
       "      <th>11</th>\n",
       "      <td>Carcaça de Frango</td>\n",
       "      <td>Embalagem</td>\n",
       "      <td>Geladeira</td>\n",
       "      <td>x12</td>\n",
       "      <td>5985.0</td>\n",
       "      <td>5.00</td>\n",
       "      <td>3.00</td>\n",
       "      <td>2.00</td>\n",
       "      <td>4.0</td>\n",
       "    </tr>\n",
       "    <tr>\n",
       "      <th>12</th>\n",
       "      <td>Coração de Frango</td>\n",
       "      <td>Embalagem</td>\n",
       "      <td>Geladeira</td>\n",
       "      <td>x13</td>\n",
       "      <td>560.0</td>\n",
       "      <td>19.00</td>\n",
       "      <td>16.00</td>\n",
       "      <td>3.00</td>\n",
       "      <td>5.0</td>\n",
       "    </tr>\n",
       "    <tr>\n",
       "      <th>13</th>\n",
       "      <td>Pescoço</td>\n",
       "      <td>Embalagem</td>\n",
       "      <td>Geladeira</td>\n",
       "      <td>x14</td>\n",
       "      <td>4851.0</td>\n",
       "      <td>5.00</td>\n",
       "      <td>2.00</td>\n",
       "      <td>3.00</td>\n",
       "      <td>10.0</td>\n",
       "    </tr>\n",
       "    <tr>\n",
       "      <th>14</th>\n",
       "      <td>Sobrecoxa</td>\n",
       "      <td>Embalagem</td>\n",
       "      <td>Geladeira</td>\n",
       "      <td>x15</td>\n",
       "      <td>7942.0</td>\n",
       "      <td>25.80</td>\n",
       "      <td>14.00</td>\n",
       "      <td>11.80</td>\n",
       "      <td>24.0</td>\n",
       "    </tr>\n",
       "    <tr>\n",
       "      <th>15</th>\n",
       "      <td>Alcatra</td>\n",
       "      <td>Embalagem</td>\n",
       "      <td>Geladeira</td>\n",
       "      <td>x16</td>\n",
       "      <td>12064.0</td>\n",
       "      <td>156.87</td>\n",
       "      <td>113.40</td>\n",
       "      <td>43.47</td>\n",
       "      <td>7.0</td>\n",
       "    </tr>\n",
       "    <tr>\n",
       "      <th>16</th>\n",
       "      <td>Filé</td>\n",
       "      <td>Embalagem</td>\n",
       "      <td>Geladeira</td>\n",
       "      <td>x17</td>\n",
       "      <td>33840.0</td>\n",
       "      <td>90.00</td>\n",
       "      <td>70.00</td>\n",
       "      <td>20.00</td>\n",
       "      <td>15.0</td>\n",
       "    </tr>\n",
       "    <tr>\n",
       "      <th>17</th>\n",
       "      <td>Peito de Frango</td>\n",
       "      <td>Embalagem</td>\n",
       "      <td>Geladeira</td>\n",
       "      <td>x18</td>\n",
       "      <td>11232.0</td>\n",
       "      <td>12.90</td>\n",
       "      <td>8.00</td>\n",
       "      <td>4.90</td>\n",
       "      <td>48.0</td>\n",
       "    </tr>\n",
       "    <tr>\n",
       "      <th>18</th>\n",
       "      <td>Linguiça de Frango</td>\n",
       "      <td>Embalagem</td>\n",
       "      <td>Geladeira</td>\n",
       "      <td>x19</td>\n",
       "      <td>10800.0</td>\n",
       "      <td>7.92</td>\n",
       "      <td>5.56</td>\n",
       "      <td>2.36</td>\n",
       "      <td>4.0</td>\n",
       "    </tr>\n",
       "    <tr>\n",
       "      <th>19</th>\n",
       "      <td>Carne Seca</td>\n",
       "      <td>Embalagem</td>\n",
       "      <td>Kombi</td>\n",
       "      <td>x20</td>\n",
       "      <td>40824.0</td>\n",
       "      <td>289.00</td>\n",
       "      <td>200.00</td>\n",
       "      <td>89.00</td>\n",
       "      <td>5.0</td>\n",
       "    </tr>\n",
       "    <tr>\n",
       "      <th>20</th>\n",
       "      <td>Carne de Sol</td>\n",
       "      <td>Embalagem</td>\n",
       "      <td>Kombi</td>\n",
       "      <td>x21</td>\n",
       "      <td>40824.0</td>\n",
       "      <td>289.00</td>\n",
       "      <td>200.00</td>\n",
       "      <td>89.00</td>\n",
       "      <td>5.0</td>\n",
       "    </tr>\n",
       "    <tr>\n",
       "      <th>21</th>\n",
       "      <td>Toucinho</td>\n",
       "      <td>Embalagem</td>\n",
       "      <td>Kombi</td>\n",
       "      <td>x22</td>\n",
       "      <td>7830.0</td>\n",
       "      <td>13.90</td>\n",
       "      <td>10.00</td>\n",
       "      <td>3.90</td>\n",
       "      <td>5.0</td>\n",
       "    </tr>\n",
       "  </tbody>\n",
       "</table>\n",
       "</div>"
      ],
      "text/plain": [
       "                 Item    Unidade  Local transporte Variável de decisão   \\\n",
       "0       Ovo de codorna      Dúzia            Kombi                   x1   \n",
       "1           Ovo Branco      Dúzia            Kombi                   x2   \n",
       "2         Ovo Vermelho      Dúzia            Kombi                   x3   \n",
       "3       Coxa de Frango  Embalagem        Geladeira                   x4   \n",
       "4        Picanha Suína  Embalagem        Geladeira                   x5   \n",
       "5       Picanha Bovina  Embalagem        Geladeira                   x6   \n",
       "6       Miúdo de Porco  Embalagem        Geladeira                   x7   \n",
       "7         Pé de Frango      Caixa        Geladeira                   x8   \n",
       "8                Carré  Embalagem        Geladeira                   x9   \n",
       "9          Carne Moída  Embalagem        Geladeira                  x10   \n",
       "10    Costela de Porco  Embalagem        Geladeira                  x11   \n",
       "11   Carcaça de Frango  Embalagem        Geladeira                  x12   \n",
       "12   Coração de Frango  Embalagem        Geladeira                  x13   \n",
       "13             Pescoço  Embalagem        Geladeira                  x14   \n",
       "14           Sobrecoxa  Embalagem        Geladeira                  x15   \n",
       "15             Alcatra  Embalagem        Geladeira                  x16   \n",
       "16                Filé  Embalagem        Geladeira                  x17   \n",
       "17     Peito de Frango  Embalagem        Geladeira                  x18   \n",
       "18  Linguiça de Frango  Embalagem        Geladeira                  x19   \n",
       "19          Carne Seca  Embalagem            Kombi                  x20   \n",
       "20        Carne de Sol  Embalagem            Kombi                  x21   \n",
       "21            Toucinho  Embalagem            Kombi                  x22   \n",
       "\n",
       "    Volume [cm^3]  Venda (R$)  Compra  Lucro  Demanda  \n",
       "0           560.0        5.00    3.00   2.00    180.0  \n",
       "1          1458.0        5.00    3.50   1.50     90.0  \n",
       "2          1458.0        7.00    5.00   2.00     60.0  \n",
       "3           640.0       12.90    7.00   5.90     24.0  \n",
       "4           630.0       26.90   18.80   8.10      6.0  \n",
       "5          1512.0       49.40   36.40  13.00      7.0  \n",
       "6         13950.0       38.70   24.00  14.70      7.0  \n",
       "7        112404.0       85.00   34.00  51.00     36.0  \n",
       "8         20160.0       81.12   48.00  33.12     10.0  \n",
       "9         15876.0       48.00   40.00   8.00      6.0  \n",
       "10        30618.0       39.60   24.00  15.60     12.0  \n",
       "11         5985.0        5.00    3.00   2.00      4.0  \n",
       "12          560.0       19.00   16.00   3.00      5.0  \n",
       "13         4851.0        5.00    2.00   3.00     10.0  \n",
       "14         7942.0       25.80   14.00  11.80     24.0  \n",
       "15        12064.0      156.87  113.40  43.47      7.0  \n",
       "16        33840.0       90.00   70.00  20.00     15.0  \n",
       "17        11232.0       12.90    8.00   4.90     48.0  \n",
       "18        10800.0        7.92    5.56   2.36      4.0  \n",
       "19        40824.0      289.00  200.00  89.00      5.0  \n",
       "20        40824.0      289.00  200.00  89.00      5.0  \n",
       "21         7830.0       13.90   10.00   3.90      5.0  "
      ]
     },
     "execution_count": 2,
     "metadata": {},
     "output_type": "execute_result"
    }
   ],
   "source": [
    "from pandas_ods_reader import read_ods\n",
    "\n",
    "df = read_ods(\"variaveis_decisao.ods\", 1)\n",
    "df"
   ]
  },
  {
   "cell_type": "markdown",
   "id": "intermediate-david",
   "metadata": {},
   "source": [
    "## Definição das variáveis "
   ]
  },
  {
   "cell_type": "code",
   "execution_count": 3,
   "id": "streaming-processing",
   "metadata": {},
   "outputs": [],
   "source": [
    "volume = list(df['Volume [cm^3]'])\n",
    "preco_venda = list(df['Venda (R$)'])\n",
    "preco_compra = list(df['Compra'])\n",
    "lucro = list(df['Lucro'])\n",
    "demanda = list(df[\"Demanda\"])"
   ]
  },
  {
   "cell_type": "markdown",
   "id": "standard-shepherd",
   "metadata": {},
   "source": [
    "## Definição das matrizes de Entrada "
   ]
  },
  {
   "cell_type": "markdown",
   "id": "strategic-implement",
   "metadata": {},
   "source": [
    "### Função Objetiva"
   ]
  },
  {
   "cell_type": "markdown",
   "id": "broadband-crystal",
   "metadata": {},
   "source": [
    "Iremos minimizar a -f(x1, ... , x22), onde f(x1, ... , x22) é a função que representa o valor total da venda."
   ]
  },
  {
   "cell_type": "code",
   "execution_count": 4,
   "id": "exposed-discipline",
   "metadata": {},
   "outputs": [],
   "source": [
    "Z = [x * -1 for x in preco_venda]"
   ]
  },
  {
   "cell_type": "markdown",
   "id": "polish-ebony",
   "metadata": {},
   "source": [
    "### Restrições"
   ]
  },
  {
   "cell_type": "markdown",
   "id": "cardiac-pledge",
   "metadata": {},
   "source": [
    "Nesta etapa iremos impor as restrições das variáves."
   ]
  },
  {
   "cell_type": "markdown",
   "id": "unlikely-masters",
   "metadata": {},
   "source": [
    "#### Restrição Geladeira"
   ]
  },
  {
   "cell_type": "markdown",
   "id": "welcome-detroit",
   "metadata": {},
   "source": [
    "Nesta etapa selecionaremos os itens que irão dentro da geladeira, ou seja, de x4 a x22."
   ]
  },
  {
   "cell_type": "code",
   "execution_count": 5,
   "id": "incoming-bubble",
   "metadata": {},
   "outputs": [],
   "source": [
    "aux = df.copy()\n",
    "i = 0\n",
    "for item in aux['Local transporte']:\n",
    "    if item != 'Geladeira':\n",
    "        aux.loc[i, 'Volume [cm^3]'] = 0\n",
    "    i += 1\n",
    "G = list(aux['Volume [cm^3]'])\n",
    "max_G = 1369900"
   ]
  },
  {
   "cell_type": "markdown",
   "id": "timely-planet",
   "metadata": {},
   "source": [
    "#### Restrição Kombi"
   ]
  },
  {
   "cell_type": "markdown",
   "id": "worldwide-tonight",
   "metadata": {},
   "source": [
    "Agora iremos impor as restrições para os itens que irão fora da geladeira. "
   ]
  },
  {
   "cell_type": "code",
   "execution_count": 6,
   "id": "hourly-seventh",
   "metadata": {},
   "outputs": [],
   "source": [
    "aux = df.copy()\n",
    "i = 0\n",
    "for item in aux['Local transporte']:\n",
    "    if item == 'Geladeira':\n",
    "        aux.loc[i, 'Volume [cm^3]'] = 0\n",
    "    i += 1\n",
    "K = list(aux['Volume [cm^3]'])\n",
    "max_K = 1984000"
   ]
  },
  {
   "cell_type": "markdown",
   "id": "systematic-sentence",
   "metadata": {},
   "source": [
    "#### Fluxo de caixa"
   ]
  },
  {
   "cell_type": "markdown",
   "id": "present-privilege",
   "metadata": {},
   "source": [
    "Existe um limite diário de mercadória de R$ 6000,00."
   ]
  },
  {
   "cell_type": "code",
   "execution_count": 7,
   "id": "certified-handy",
   "metadata": {},
   "outputs": [],
   "source": [
    "F = [x * -1 for x in preco_venda]\n",
    "max_F = 6000"
   ]
  },
  {
   "cell_type": "markdown",
   "id": "floppy-amazon",
   "metadata": {},
   "source": [
    "# Aplicando o Simplex "
   ]
  },
  {
   "cell_type": "code",
   "execution_count": 11,
   "id": "generous-teacher",
   "metadata": {},
   "outputs": [],
   "source": [
    "import scipy\n",
    "from scipy.optimize import linprog"
   ]
  },
  {
   "cell_type": "code",
   "execution_count": 10,
   "id": "alpha-shelter",
   "metadata": {},
   "outputs": [],
   "source": [
    "c = Z\n",
    "A = [G, K, F]\n",
    "B = [max_G, max_K, max_F]\n",
    "x1_bd = (0, None)\n",
    "x_bounds = (x1_bd,)*len(c)"
   ]
  },
  {
   "cell_type": "code",
   "execution_count": 12,
   "id": "welcome-delight",
   "metadata": {},
   "outputs": [
    {
     "name": "stdout",
     "output_type": "stream",
     "text": [
      "Optimization terminated successfully.\n",
      "         Current function value: -76206.841270\n",
      "         Iterations: 9\n"
     ]
    }
   ],
   "source": [
    "modelo_simplex = linprog(c, A_ub=A, b_ub=B, bounds=x_bounds, method='Simplex', options={\"disp\":True})"
   ]
  },
  {
   "cell_type": "code",
   "execution_count": 13,
   "id": "cooperative-headline",
   "metadata": {},
   "outputs": [
    {
     "data": {
      "text/plain": [
       "     con: array([], dtype=float64)\n",
       "     fun: -76206.84126984127\n",
       " message: 'Optimization terminated successfully.'\n",
       "     nit: 9\n",
       "   slack: array([ 0.00000000e+00, -2.32830644e-10,  8.22068413e+04])\n",
       "  status: 0\n",
       " success: True\n",
       "       x: array([3542.85714286,    0.        ,    0.        ,    0.        ,\n",
       "       2174.44444444,    0.        ,    0.        ,    0.        ,\n",
       "          0.        ,    0.        ,    0.        ,    0.        ,\n",
       "          0.        ,    0.        ,    0.        ,    0.        ,\n",
       "          0.        ,    0.        ,    0.        ,    0.        ,\n",
       "          0.        ,    0.        ])"
      ]
     },
     "execution_count": 13,
     "metadata": {},
     "output_type": "execute_result"
    }
   ],
   "source": [
    "modelo_simplex"
   ]
  },
  {
   "cell_type": "code",
   "execution_count": 79,
   "id": "solar-grant",
   "metadata": {},
   "outputs": [
    {
     "data": {
      "text/plain": [
       "((144.0, 216.0),\n",
       " (72.0, 108.0),\n",
       " (48.0, 72.0),\n",
       " (19.200000000000003, 28.799999999999997),\n",
       " (4.800000000000001, 7.199999999999999),\n",
       " (5.6000000000000005, 8.4),\n",
       " (5.6000000000000005, 8.4),\n",
       " (28.8, 43.199999999999996),\n",
       " (8.0, 12.0),\n",
       " (4.800000000000001, 7.199999999999999),\n",
       " (9.600000000000001, 14.399999999999999),\n",
       " (3.2, 4.8),\n",
       " (4.0, 6.0),\n",
       " (8.0, 12.0),\n",
       " (19.200000000000003, 28.799999999999997),\n",
       " (5.6000000000000005, 8.4),\n",
       " (12.0, 18.0),\n",
       " (38.400000000000006, 57.599999999999994),\n",
       " (3.2, 4.8),\n",
       " (4.0, 6.0),\n",
       " (4.0, 6.0),\n",
       " (4.0, 6.0))"
      ]
     },
     "execution_count": 79,
     "metadata": {},
     "output_type": "execute_result"
    }
   ],
   "source": [
    "c = Z\n",
    "A = [G, K, F]\n",
    "B = [max_G, max_K, max_F]\n",
    "x_bounds = []\n",
    "for item in demanda:\n",
    "    x_bounds.append((0.8*item,1.2*item))\n",
    "\n",
    "x_bounds = tuple(x_bounds)\n",
    "x_bounds"
   ]
  },
  {
   "cell_type": "code",
   "execution_count": 141,
   "id": "editorial-party",
   "metadata": {},
   "outputs": [
    {
     "data": {
      "text/plain": [
       "     con: array([], dtype=float64)\n",
       "     fun: -11467.816\n",
       " message: 'The problem appears infeasible, as the phase one auxiliary problem terminated successfully with a residual of 3.7e+06, greater than the tolerance 0.4 required for the solution to be considered feasible. Consider increasing the tolerance to be greater than 3.7e+06. If this tolerance is unnaceptably large, the problem is likely infeasible.'\n",
       "     nit: 0\n",
       "   slack: array([-3652845.6  ,  1370488.   ,    17467.816])\n",
       "  status: 2\n",
       " success: False\n",
       "       x: array([144. ,  72. ,  48. ,  19.2,   4.8,   5.6,   5.6,  28.8,   8. ,\n",
       "         4.8,   9.6,   3.2,   4. ,   8. ,  19.2,   5.6,  12. ,  38.4,\n",
       "         3.2,   4. ,   4. ,   4. ])"
      ]
     },
     "execution_count": 141,
     "metadata": {},
     "output_type": "execute_result"
    }
   ],
   "source": [
    "model_simplex = linprog(c, A_ub=A, b_ub=B, bounds=x_bounds, method='revised simplex', options={ 'disp': False, 'tol':4e-01})\n",
    "model_simplex"
   ]
  },
  {
   "cell_type": "code",
   "execution_count": 148,
   "id": "theoretical-celebration",
   "metadata": {},
   "outputs": [
    {
     "name": "stdout",
     "output_type": "stream",
     "text": [
      "Primal Feasibility  Dual Feasibility    Duality Gap         Step             Path Parameter      Objective          \n",
      "1.0                 1.0                 1.0                 -                1.0                 -12780.826          \n",
      "0.01584399343998    0.01584399343998    0.01584399343998    0.997398071718   0.01584399343998    -12577.44616061     \n",
      "0.006028663062925   0.006028663062925   0.006028663062925   0.6335973194192  0.006028663062926   -12668.73220103     \n",
      "0.002181583372656   0.002181583372656   0.002181583372656   0.6598317368356  0.002181583372656   -12552.8068186      \n",
      "0.00167036610939    0.00167036610939    0.001670366109389   0.2589492125655  0.00167036610939    -12712.55122754     \n",
      "1.352568823305e-05  1.352568823299e-05  1.35256882367e-05   0.9932819289547  1.352568823305e-05  -12187.78593884     \n",
      "2.206915781734e-07  2.206915781653e-07  2.206915809757e-07  0.987748397945   2.206915781734e-07  -12725.4052152      \n",
      "4.605468711694e-11  4.605467614022e-11  4.605003278954e-11  0.9997913185037  4.605468711693e-11  -12077.12689238     \n",
      "The algorithm terminated successfully and determined that the problem is infeasible.\n",
      "         Iterations: 7\n"
     ]
    }
   ],
   "source": [
    "pi = linprog(c, A_ub=A, b_ub=B, bounds=x_bounds, method='interior-point', options={\"disp\":True})"
   ]
  },
  {
   "cell_type": "code",
   "execution_count": 149,
   "id": "framed-italy",
   "metadata": {},
   "outputs": [
    {
     "data": {
      "text/plain": [
       "     con: array([], dtype=float64)\n",
       "     fun: -12077.126892382772\n",
       " message: 'The algorithm terminated successfully and determined that the problem is infeasible.'\n",
       "     nit: 7\n",
       "   slack: array([-3744915.17031751,  1337043.23696892,    18077.12689238])\n",
       "  status: 2\n",
       " success: False\n",
       "       x: array([146.60690355,  73.64450861,  49.40656139,  20.37836095,\n",
       "         5.96737858,   6.86490694,   5.89207318,  29.14803045,\n",
       "         8.18779693,   5.05772395,   9.73604575,   3.72836299,\n",
       "         5.10283773,   8.60360518,  19.65632135,   6.64783524,\n",
       "        12.10703929,  38.6766147 ,   3.54515468,   4.29478946,\n",
       "         4.29478946,   4.44284383])"
      ]
     },
     "execution_count": 149,
     "metadata": {},
     "output_type": "execute_result"
    }
   ],
   "source": [
    "pi"
   ]
  },
  {
   "cell_type": "markdown",
   "id": "explicit-corps",
   "metadata": {},
   "source": [
    "# Segunda Tentativa "
   ]
  },
  {
   "cell_type": "code",
   "execution_count": 153,
   "id": "hawaiian-dutch",
   "metadata": {},
   "outputs": [],
   "source": [
    "from pulp import LpMaximize, LpProblem, LpStatus, lpSum, LpVariable,pulpTestAll, GLPK"
   ]
  },
  {
   "cell_type": "code",
   "execution_count": 135,
   "id": "massive-medium",
   "metadata": {},
   "outputs": [],
   "source": [
    "x1 = LpVariable(name=\"x1\", lowBound=144, upBound = 216, cat=\"Integer\")\n",
    "x2 = LpVariable(name=\"x2\", lowBound=72, upBound = 108, cat=\"Integer\")\n",
    "x3 = LpVariable(name=\"x3\", lowBound=48, upBound = 72, cat=\"Integer\")\n",
    "x4 = LpVariable(name=\"x4\", lowBound=19.2, upBound = 28.8, cat=\"Integer\")\n",
    "x5 = LpVariable(name=\"x5\", lowBound=4.8, upBound = 7.2, cat=\"Integer\")\n",
    "x6 = LpVariable(name=\"x6\", lowBound=5.6, upBound = 8.4, cat=\"Integer\")\n",
    "x7 = LpVariable(name=\"x7\", lowBound=5.6, upBound = 8.4, cat=\"Integer\")\n",
    "x8 = LpVariable(name=\"x8\",  lowBound=28.8, upBound = 43.2, cat=\"Integer\")\n",
    "x9 = LpVariable(name=\"x9\",  lowBound=8, upBound = 12, cat=\"Integer\")\n",
    "x10 = LpVariable(name=\"x10\", lowBound=4.8, upBound =7.2, cat=\"Integer\")\n",
    "x11 = LpVariable(name=\"x11\",  lowBound=9.6, upBound =14.4,cat=\"Integer\")\n",
    "x12 = LpVariable(name=\"x12\",  lowBound=3.2, upBound =4.8, cat=\"Integer\")\n",
    "x13 = LpVariable(name=\"x13\", lowBound=4, upBound = 6, cat=\"Integer\")\n",
    "x14 = LpVariable(name=\"x14\",   lowBound=8, upBound = 12, cat=\"Integer\")\n",
    "x15 = LpVariable(name=\"x15\", lowBound=19.2, upBound = 28.8, cat=\"Integer\")\n",
    "x16 = LpVariable(name=\"x16\",  lowBound=5.2, upBound = 8.4, cat=\"Integer\")\n",
    "x17 = LpVariable(name=\"x17\",  lowBound=12, upBound = 8, cat=\"Integer\")\n",
    "x18 = LpVariable(name=\"x18\",  lowBound=38.4, upBound = 57.6, cat=\"Integer\")\n",
    "x19 = LpVariable(name=\"x19\",  lowBound=3.2, upBound = 4.8, cat=\"Integer\")\n",
    "x20 = LpVariable(name=\"x20\", lowBound=4, upBound = 6, cat=\"Integer\")\n",
    "x21 = LpVariable(name=\"x21\",  lowBound=4, upBound = 6, cat=\"Integer\")\n",
    "x22 = LpVariable(name=\"x22\",  lowBound=4, upBound = 6, cat=\"Integer\")"
   ]
  },
  {
   "cell_type": "code",
   "execution_count": 228,
   "id": "neutral-lincoln",
   "metadata": {},
   "outputs": [],
   "source": [
    "x1 = LpVariable(name=\"x1\", lowBound=144, cat=\"Integer\")\n",
    "x2 = LpVariable(name=\"x2\", lowBound=72, cat=\"Integer\")\n",
    "x3 = LpVariable(name=\"x3\", lowBound=0, cat=\"Integer\")\n",
    "x4 = LpVariable(name=\"x4\", lowBound=0, cat=\"Integer\")\n",
    "x5 = LpVariable(name=\"x5\", lowBound=0, cat=\"Integer\")\n",
    "x6 = LpVariable(name=\"x6\", lowBound=0, cat=\"Integer\")\n",
    "x7 = LpVariable(name=\"x7\", lowBound=0, cat=\"Integer\")\n",
    "x8 = LpVariable(name=\"x8\",  lowBound=0, cat=\"Integer\")\n",
    "x9 = LpVariable(name=\"x9\",  lowBound=0, cat=\"Integer\")\n",
    "x10 = LpVariable(name=\"x10\", lowBound=0, cat=\"Integer\")\n",
    "x11 = LpVariable(name=\"x11\",  lowBound=0,cat=\"Integer\")\n",
    "x12 = LpVariable(name=\"x12\",  lowBound=0, cat=\"Integer\")\n",
    "x13 = LpVariable(name=\"x13\", lowBound=0, cat=\"Integer\")\n",
    "x14 = LpVariable(name=\"x14\",   lowBound=0, cat=\"Integer\")\n",
    "x15 = LpVariable(name=\"x15\", lowBound=0, cat=\"Integer\")\n",
    "x16 = LpVariable(name=\"x16\",  lowBound=0, cat=\"Integer\")\n",
    "x17 = LpVariable(name=\"x17\",  lowBound=0, cat=\"Integer\")\n",
    "x18 = LpVariable(name=\"x18\",  lowBound=0, cat=\"Integer\")\n",
    "x19 = LpVariable(name=\"x19\",  lowBound=0, cat=\"Integer\")\n",
    "x20 = LpVariable(name=\"x20\", lowBound=0, cat=\"Integer\")\n",
    "x21 = LpVariable(name=\"x21\",  lowBound=0, cat=\"Integer\")\n",
    "x22 = LpVariable(name=\"x22\",  lowBound=0, cat=\"Integer\")"
   ]
  },
  {
   "cell_type": "code",
   "execution_count": 229,
   "id": "special-multimedia",
   "metadata": {},
   "outputs": [],
   "source": [
    "# Add the constraints to the model\n",
    "# Create the model\n",
    "model = LpProblem(name=\"small-problem\", sense=LpMaximize)\n",
    "\n",
    "model += (0*x1+0*x2+0*x3+640*x4+630*x5+1512*x6+13950*x7+112404*x8+20160*x9+\n",
    "          15876*x10+30618*x11+5985*x12+560*x13+4851*x14+7942*x15+1206*x16+33840*x17+11232*x18\n",
    "          + 10800*x19+ 0*x20 + 0*x21+ 0*x22 <= 1369900)\n",
    "\n",
    "model += (560*x1+1458*x2+1458*x3+0*x4+0*x5+0*x6+0*x7+0*x8+0*x9+\n",
    "          0*x10+0*x11+0*x12+0*x13+0*x14+0*x15+0*x16+0*x17+0*x18\n",
    "          +0*x19+ 40824*x20 + 40824*x21 +7830*x22<= 1984000)\n",
    "\n",
    "model += (3*x1+3.5*x2+5*x3+7*x4+18.8*x5+\n",
    "          36.4*x6+24*x7+34*x8+48*x9+40*x10+\n",
    "          24*x11+3*x12+16*x13+2*x14+14*x15+\n",
    "          113.4*x16+\n",
    "          70*x17+8*x18+5.56*x19+ 200*x20 + \n",
    "          200*x21 +10*x22<= 6000)\n",
    "\n",
    "model += lpSum([5*x1,5*x2,7*x3,12.9*x4,26.9*x5,\n",
    "            49.4*x6,38.7*x7,85*x8,81.12*x9,\n",
    "          48*x10,39.6*x11,5*x12,19*x13,5*x14,25.8*x15,\n",
    "            156.87*x16,90*x17,12.9*x18\n",
    "          , 7.92*x19, 289*x20 , 289*x21, 13.9*x22])"
   ]
  },
  {
   "cell_type": "code",
   "execution_count": 230,
   "id": "sound-garage",
   "metadata": {},
   "outputs": [],
   "source": [
    "status = model.solve()"
   ]
  },
  {
   "cell_type": "code",
   "execution_count": 231,
   "id": "frequent-membership",
   "metadata": {},
   "outputs": [
    {
     "name": "stdout",
     "output_type": "stream",
     "text": [
      "status: 1, Optimal\n"
     ]
    }
   ],
   "source": [
    "print(f\"status: {model.status}, {LpStatus[model.status]}\")"
   ]
  },
  {
   "cell_type": "code",
   "execution_count": 157,
   "id": "loaded-valentine",
   "metadata": {},
   "outputs": [
    {
     "name": "stdout",
     "output_type": "stream",
     "text": [
      "objective: 195784.35\n"
     ]
    }
   ],
   "source": [
    "print(f\"objective: {model.objective.value()}\")"
   ]
  },
  {
   "cell_type": "code",
   "execution_count": 232,
   "id": "prerequisite-durham",
   "metadata": {},
   "outputs": [
    {
     "name": "stdout",
     "output_type": "stream",
     "text": [
      "x1: 145.0\n",
      "x10: 0.0\n",
      "x11: 0.0\n",
      "x12: 0.0\n",
      "x13: 0.0\n",
      "x14: 189.0\n",
      "x15: 0.0\n",
      "x16: 0.0\n",
      "x17: 0.0\n",
      "x18: 0.0\n",
      "x19: 0.0\n",
      "x2: 72.0\n",
      "x20: 0.0\n",
      "x21: 0.0\n",
      "x22: 0.0\n",
      "x3: 0.0\n",
      "x4: 705.0\n",
      "x5: 0.0\n",
      "x6: 0.0\n",
      "x7: 0.0\n",
      "x8: 0.0\n",
      "x9: 0.0\n"
     ]
    }
   ],
   "source": [
    "for var in model.variables():\n",
    "    print(f\"{var.name}: {var.value()}\")"
   ]
  },
  {
   "cell_type": "code",
   "execution_count": 134,
   "id": "handmade-religion",
   "metadata": {},
   "outputs": [
    {
     "name": "stdout",
     "output_type": "stream",
     "text": [
      "_C1: -460.0\n",
      "_C2: -480.0\n",
      "_C3: -1844646.2\n"
     ]
    }
   ],
   "source": [
    "for name, constraint in model.constraints.items():\n",
    "    print(f\"{name}: {constraint.value()}\")"
   ]
  },
  {
   "cell_type": "code",
   "execution_count": null,
   "id": "basic-memorial",
   "metadata": {},
   "outputs": [],
   "source": []
  }
 ],
 "metadata": {
  "kernelspec": {
   "display_name": "Python 3",
   "language": "python",
   "name": "python3"
  },
  "language_info": {
   "codemirror_mode": {
    "name": "ipython",
    "version": 3
   },
   "file_extension": ".py",
   "mimetype": "text/x-python",
   "name": "python",
   "nbconvert_exporter": "python",
   "pygments_lexer": "ipython3",
   "version": "3.8.5"
  }
 },
 "nbformat": 4,
 "nbformat_minor": 5
}
